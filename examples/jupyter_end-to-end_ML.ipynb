{
 "cells": [
  {
   "attachments": {},
   "cell_type": "markdown",
   "id": "f211c033-f1e2-42d8-b2e8-8e262b4b73ac",
   "metadata": {
    "tags": []
   },
   "source": [
    "# End-to-End Machine Learning for Aeromagnetic Compensation Notebook\n",
    "This notebook provides a background on machine learning with an application toward aeromagnetic compensation using MagNav.jl: https://github.com/MIT-AI-Accelerator/MagNav.jl\n",
    "\n",
    "Feel free to change any parameters of interest.\n",
    "\n",
    "Machine learning projects entail much more than just training neural networks. In [Hands-On Machine Learning with Scikit-Learn, Keras, and TensorFlow](https://www.oreilly.com/library/view/hands-on-machine-learning/9781492032632/), Aurélien Géron lays out the steps of an end-to-end machine learning project:\n",
    "\n",
    "1. Look at the big picture\n",
    "2. Get the data\n",
    "3. Discover and visualize the data to gain insights\n",
    "4. Prepare the data for machine learning algorithms\n",
    "5. Select a model and train it\n",
    "6. Fine-tune the model\n",
    "7. Present the solution\n",
    "8. Launch, monitor, and maintain the system"
   ]
  },
  {
   "cell_type": "markdown",
   "id": "e0a59135",
   "metadata": {},
   "source": [
    "## 0. Import packages and DataFrames\n",
    "\n",
    "The DataFrames listed below provide useful information about the flight data collected by Sander Geophysics Ltd. (SGL) and magnetic anomaly maps.\n",
    "\n",
    "Dataframe  | Description\n",
    ":--------- | :----------\n",
    "`df_map`   | map files relevant for SGL flights\n",
    "`df_cal`   | SGL calibration flight lines\n",
    "`df_flight`| SGL flight files\n",
    "`df_all`   | all flight lines\n",
    "`df_nav`   | all *navigation-capable* flight lines\n",
    "`df_event` | pilot-recorded in-flight events"
   ]
  },
  {
   "cell_type": "code",
   "execution_count": null,
   "id": "6c7b3f87-825b-4dc1-bc6c-cbddb61eb2f0",
   "metadata": {},
   "outputs": [],
   "source": [
    "cd(@__DIR__)\n",
    "# uncomment line below to use local MagNav.jl (downloaded folder)\n",
    "# using Pkg; Pkg.activate(\"../\"); Pkg.instantiate()\n",
    "using MagNav\n",
    "using CSV, DataFrames\n",
    "using Plots: plot, plot!\n",
    "using Random: seed!\n",
    "using Statistics: mean, median, std\n",
    "seed!(33); # for reproducibility\n",
    "include(\"dataframes_setup.jl\"); # setup DataFrames\n"
   ]
  },
  {
   "cell_type": "markdown",
   "id": "7b95cd0a",
   "metadata": {},
   "source": [
    "## 1. Look at the big picture\n",
    "\n",
    "Airborne magnetic anomaly navigation (MagNav) is an emerging technology that can be used for aerial navigation in case GPS is not available. MagNav uses maps of variations in the magnetic field originating from the crust of the Earth. A navigation algorithm compares onboard measurements of the magnetic field with a magnetic anomaly map, which (combined with inertial measurements), produces an estimate of the aircraft position.\n",
    "\n",
    "But there's a catch! The magnetometers on the aircraft measure the total magnetic field, which is comprised of multiple magnetic fields arising from not only the crust, but also the Earth's core, diurnal variations, and the aircraft itself. In order to use the crustal anomaly field for MagNav, the other contributions to the total magnetic field must be removed. Magnetic models and base station measurements suffice to remove the core and diurnal fields, which leaves the aircraft field to remove. Unlike the other contributions, the aircraft field is difficult to isolate. Aeromagnetic compensation is used to identify and remove the aircraft field.\n",
    "\n",
    "The standard approach for aeromagnetic compensation, known as the Tolles-Lawson model, uses a physics-based linear model of the aircraft field combined with data taken during a specific flight pattern designed to maximize the contribution arising from the aircraft. Tolles-Lawson works well when the aircraft field is small compared to the Earth's core field, for example when the magnetometer is located on a boom (stinger) behind the aircraft (Mag 1) but falls short for magnetometers located in the cabin (Mags 2-5).\n",
    "\n",
    "The goal here is to perform aeromagnetic compensation using the in-cabin sensors. In addition to the scalar magnetometers (Mags 2-5), which detect the magnitude of the total magnetic field, there are measurements from vector magnetometers (Flux A-D), which detect the three cartesian components of the total magnetic field. There are also measurements available from additional sensors, notably current sensors. Performance is measured using the standard deviation of the error between the predicted values and the professionally-compensated stinger magnetometer."
   ]
  },
  {
   "cell_type": "markdown",
   "id": "adb7a3a3",
   "metadata": {},
   "source": [
    "<img src=\"../readmes/magnetometer_locations.png\" alt=\"magnetometer locations\" />"
   ]
  },
  {
   "attachments": {},
   "cell_type": "markdown",
   "id": "95ea6673-0257-4404-a4e8-6e56a80bce82",
   "metadata": {},
   "source": [
    "## 2. Get the data\n",
    "\n",
    "For Tolles-Lawson and testing, we select Flight 1006 (see [readme](https://github.com/MIT-AI-Accelerator/MagNav.jl/blob/master/readmes/Flt1006_readme.txt)) and gather the [`XYZ20` data structure](https://mit-ai-accelerator.github.io/MagNav.jl/stable/structs/#MagNav.XYZ20), which contains the GPS-based trajectory [`Traj` data structure](https://mit-ai-accelerator.github.io/MagNav.jl/stable/structs/#MagNav.Traj), inertial navigation system [`INS` data structure](https://mit-ai-accelerator.github.io/MagNav.jl/stable/structs/#MagNav.INS), flight information, magnetometer readings, and auxilliary sensor data."
   ]
  },
  {
   "cell_type": "code",
   "execution_count": null,
   "id": "0460e5e7",
   "metadata": {},
   "outputs": [],
   "source": [
    "flight = :Flt1006 # select flight, full list in df_flight\n",
    "xyz    = get_XYZ(flight,df_flight); # load flight data\n"
   ]
  },
  {
   "cell_type": "markdown",
   "id": "1290da99",
   "metadata": {},
   "source": [
    "The `xyz` flight data struct is of type `MagNav.XYZ20` (for the 2020 SGL flight data collection), which is a subtype of `MagNav.XYZ` (the abstract type for any flight data in MagNav.jl). There are 76 fields, which can be accessed using dot notation. Note that `xyz` holds all the flight data from the HDF5 file, but Boolean indices can be used as a mask to return specific portion(s) of flight data."
   ]
  },
  {
   "cell_type": "code",
   "execution_count": null,
   "id": "5791811d",
   "metadata": {},
   "outputs": [],
   "source": [
    "typeof(xyz)\n"
   ]
  },
  {
   "cell_type": "code",
   "execution_count": null,
   "id": "715fd82b",
   "metadata": {},
   "outputs": [],
   "source": [
    "fieldnames(MagNav.XYZ20)\n"
   ]
  },
  {
   "cell_type": "markdown",
   "id": "3f19688f",
   "metadata": {},
   "source": [
    "For the Tolles-Lawson calibration, flight line 1006.04 is selected, which occurred at a higher altitude (see [readme](https://github.com/MIT-AI-Accelerator/MagNav.jl/blob/master/readmes/Flt1006_readme.txt)). This is the first calibration box of this flight line. `TL_ind` holds the Boolean indices (mask) just for this portion of the calibration flight line. The full list of calibration flight line options is in `df_cal`."
   ]
  },
  {
   "cell_type": "code",
   "execution_count": null,
   "id": "eb09f514",
   "metadata": {},
   "outputs": [],
   "source": [
    "TL_i   = 6 # select first calibration box of 1006.04\n",
    "TL_ind = get_ind(xyz;tt_lim=[df_cal.t_start[TL_i],df_cal.t_end[TL_i]]);\n"
   ]
  },
  {
   "cell_type": "markdown",
   "id": "f10a4f5f",
   "metadata": {},
   "source": [
    "Here `df_all` is filtered into `df_options` to ensure that the selected flight line(s) for testing correspond with the selected flight (`:Flt1006`). The full list of SGL flights is in `df_flight` and the full list of flight lines is in `df_all`."
   ]
  },
  {
   "cell_type": "code",
   "execution_count": null,
   "id": "ae023d75",
   "metadata": {},
   "outputs": [],
   "source": [
    "df_options = df_all[(df_all.flight .== flight),:]\n"
   ]
  },
  {
   "cell_type": "markdown",
   "id": "aa97da0d",
   "metadata": {},
   "source": [
    "For testing, we use Boolean indices (mask) corresponding to flight line 1006.08 in `df_options`."
   ]
  },
  {
   "cell_type": "code",
   "execution_count": null,
   "id": "b820f762",
   "metadata": {},
   "outputs": [],
   "source": [
    "line = 1006.08 # select flight line (row) from df_options\n",
    "ind  = get_ind(xyz,line,df_options); # get Boolean indices\n"
   ]
  },
  {
   "cell_type": "markdown",
   "id": "0f25b297",
   "metadata": {},
   "source": [
    "For training, we select all available flight data from Flights 1003-1006 (see [readmes](https://github.com/MIT-AI-Accelerator/MagNav.jl/tree/master/readmes)) into `lines_train`, except the held-out flight `line`. To reduce memory use, the specified flight data is only loaded internally during neural network training later on."
   ]
  },
  {
   "cell_type": "code",
   "execution_count": null,
   "id": "9136deea",
   "metadata": {},
   "outputs": [],
   "source": [
    "flts = [:Flt1003,:Flt1004,:Flt1005,:Flt1006] # select flights for training\n",
    "df_train = df_all[(df_all.flight .∈ (flts,) ) .& # use all flight data\n",
    "                  (df_all.line   .!= line),:]    # except held-out line\n",
    "lines_train = df_train.line # training lines\n"
   ]
  },
  {
   "attachments": {},
   "cell_type": "markdown",
   "id": "d022f7da-dcbe-4daa-9a6a-3f2423eb675d",
   "metadata": {},
   "source": [
    "## 3. Discover and visualize the data to gain insights\n",
    "\n",
    "As noted in the [datasheet](https://github.com/MIT-AI-Accelerator/MagNav.jl/blob/master/readmes/datasheet_sgl_2020_train.pdf), the full 2020 SGL training dataset has 753573 total instances (time steps) sampled at 10 Hz, about 21 hours in flight time spread across 6 flights. This notebook looks at Flight 1006 in more detail for testing, which has 108318 instances, or about 3 hours of flight. The held-out flight `line` subset of Flight 1006 has 8391 instances, or about 14 minutes of flight.\n",
    "\n",
    "To get an idea of the magnetometer data, we can call some utility functions for plotting.\n",
    "\n",
    "Note that these are filtered using the `ind` Boolean indices corresponding to the held-out flight `line`."
   ]
  },
  {
   "cell_type": "code",
   "execution_count": null,
   "id": "26421d0a-b8a3-40d5-83d3-b2e8623aa3df",
   "metadata": {},
   "outputs": [],
   "source": [
    "show_plot = true\n",
    "save_plot = false\n",
    "use_mags  = [:mag_1_uc,:mag_4_uc,:mag_5_uc] # scalar magnetometers to plot\n",
    "\n",
    "p1 = plot_mag(xyz;ind,show_plot,save_plot, # plot scalar magnetometers\n",
    "              use_mags     = use_mags,\n",
    "              detrend_data = false);\n"
   ]
  },
  {
   "cell_type": "code",
   "execution_count": null,
   "id": "975100aa",
   "metadata": {},
   "outputs": [],
   "source": [
    "println(\"Mag 1\")\n",
    "describe(xyz.mag_1_uc[ind])\n"
   ]
  },
  {
   "cell_type": "code",
   "execution_count": null,
   "id": "5592ce87",
   "metadata": {},
   "outputs": [],
   "source": [
    "println(\"Mag 4\")\n",
    "describe(xyz.mag_4_uc[ind])\n"
   ]
  },
  {
   "cell_type": "code",
   "execution_count": null,
   "id": "89fcea22",
   "metadata": {},
   "outputs": [],
   "source": [
    "println(\"Mag 5\")\n",
    "describe(xyz.mag_5_uc[ind])\n"
   ]
  },
  {
   "cell_type": "markdown",
   "id": "88fd286e",
   "metadata": {},
   "source": [
    "These scalar magnetometers range between approximately 50510 nT and 53648 nT, and Mag 4 clearly has a bias compared to the others. Note that MagNav relies on magnetic field fluctuations, so a bias (DC offset) in the magnetometer data has limited impact on navigation performance. Compare the plot of the scalar magnetometer values (above) with the mean-subtracted values (below). The same variations can be seen, but the signals are easier to compare. Here it is apparent that the location of the magnetometer is an important factor for the noise seen in the signal."
   ]
  },
  {
   "cell_type": "code",
   "execution_count": null,
   "id": "db23f15c",
   "metadata": {},
   "outputs": [],
   "source": [
    "p2 = plot_mag(xyz;ind,show_plot,save_plot, # plot scalar magnetometers\n",
    "              use_mags     = use_mags,\n",
    "              detrend_data = true);\n"
   ]
  },
  {
   "cell_type": "code",
   "execution_count": null,
   "id": "d3d3b61c-bb13-4b85-be65-f5ebbd03e3f4",
   "metadata": {},
   "outputs": [],
   "source": [
    "p3 = plot_mag(xyz;ind,show_plot,save_plot, # plot vector magnetometer (fluxgate)\n",
    "              use_mags     = [:flux_d], # try changing to :flux_a, :flux_b, :flux_c\n",
    "              detrend_data = true);\n"
   ]
  },
  {
   "cell_type": "code",
   "execution_count": null,
   "id": "874f0650",
   "metadata": {},
   "outputs": [],
   "source": [
    "println(\"Flux D total field\")\n",
    "describe(xyz.flux_d.t[ind])\n"
   ]
  },
  {
   "cell_type": "markdown",
   "id": "c61fe276",
   "metadata": {},
   "source": [
    "Each vector magnetometer (e.g., `:flux_d`) has four channels: the `_x`, `_y`, and `_z` components and the magnitude or total field `t`. The total field for `Flux D` is between approximately 51579 nT and 54445 nT, a similar range as the scalar magnetometers. However, the components vary between approximately -53190 nT and +38542 nT (when not detrended). This suggests directional information is a key component of the vector magnetometers, so feature scaling should take this into account.\n",
    "\n",
    "**Overall, it is clear that the in-cabin scalar and vector magnetometers are noisy compared to the stinger magnetometer (Mag 1).**\n",
    "\n",
    "The dataset also includes additional sensors. For example, a current sensor for the 💡 strobe lights 💡 has been found to be a helpful feature. This current sensor contains high-frequency noise, so first a low-pass filter is applied using two convenience functions, `get_bpf` and `bpf_data`."
   ]
  },
  {
   "cell_type": "code",
   "execution_count": null,
   "id": "1211b378",
   "metadata": {},
   "outputs": [],
   "source": [
    "lpf     = get_bpf(;pass1=0.0,pass2=0.2,fs=10.0) # get low-pass filter\n",
    "lpf_sig = -bpf_data(xyz.cur_strb[ind];bpf=lpf); # apply low-pass filter, sign switched for easier comparison\n"
   ]
  },
  {
   "cell_type": "markdown",
   "id": "46641ff9",
   "metadata": {},
   "source": [
    "For comparison, the (linear) Tolles-Lawson model is also evaluated here. We select scalar and vector magnetometer readings during the calibration flight and generate the coefficients to perform linear Tolles-Lawson compensation. We are choosing in-cabin scalar magnetometer 4 and vector (flux) magnetometer D. Mag 4 is located on the floor in the rear of the cabin, and Flux D is nearby on the starboard side. Mag 4 is particularly challenging since it contains several 100s to 1000 nT excursions in comparison to the tail stinger, as we saw above.\n",
    "\n",
    "### Tolles-Lawson calibration"
   ]
  },
  {
   "cell_type": "code",
   "execution_count": null,
   "id": "27d6a5e3",
   "metadata": {},
   "outputs": [],
   "source": [
    "λ       = 0.025   # ridge parameter for ridge regression\n",
    "use_vec = :flux_d # selected vector (flux) magnetometer\n",
    "terms_A = [:permanent,:induced,:eddy] # Tolles-Lawson terms to use\n",
    "flux    = getfield(xyz,use_vec) # load Flux D data\n",
    "TL_d_4  = create_TL_coef(flux,xyz.mag_4_uc,TL_ind; # create Tolles-Lawson\n",
    "                         terms=terms_A,λ=λ);       # coefficients with Flux D & Mag 4\n"
   ]
  },
  {
   "cell_type": "markdown",
   "id": "12fda9f5",
   "metadata": {},
   "source": [
    "### Tolles-Lawson compensation"
   ]
  },
  {
   "cell_type": "code",
   "execution_count": null,
   "id": "252d37e1",
   "metadata": {},
   "outputs": [],
   "source": [
    "A = create_TL_A(flux,ind)     # Tolles-Lawson `A` matrix for Flux D\n",
    "mag_1_sgl = xyz.mag_1_c[ind]  # professionally compensated tail stinger, Mag 1\n",
    "mag_4_uc  = xyz.mag_4_uc[ind] # uncompensated Mag 4\n",
    "mag_4_c   = mag_4_uc - detrend(A*TL_d_4;mean_only=true); # compensated Mag 4\n"
   ]
  },
  {
   "cell_type": "markdown",
   "id": "7ff19805",
   "metadata": {},
   "source": [
    "Now the low-pass filtered strobe light current sensor and Mag 4 with Tolles-Lawson compensation can be compared. Here we can see that the spikes seem to line up!"
   ]
  },
  {
   "cell_type": "code",
   "execution_count": null,
   "id": "9f248f3e",
   "metadata": {},
   "outputs": [],
   "source": [
    "p4 = plot_basic(xyz.traj.tt[ind],lpf_sig;lab=\"strobe current\");\n",
    "p5 = plot_basic(xyz.traj.tt[ind],mag_4_c;lab=\"Mag 4\");\n"
   ]
  },
  {
   "cell_type": "markdown",
   "id": "230be4ea",
   "metadata": {},
   "source": [
    "We can also look at a correlation scatter plot between the low-pass filtered strobe light current sensor and Mag 4 with Tolles-Lawson compensation. It looks like there is a positive correlation between these features. This looks like a fascinating topic for further study."
   ]
  },
  {
   "cell_type": "code",
   "execution_count": null,
   "id": "a08a07fd",
   "metadata": {},
   "outputs": [],
   "source": [
    "p6 = plot_correlation(mag_4_c,lpf_sig,:mag_4_c,:lpf_cur_strb);\n"
   ]
  },
  {
   "cell_type": "markdown",
   "id": "b264f01d",
   "metadata": {},
   "source": [
    "Note that the same correlation is **not** seen between the low-pass filtered strobe light current sensor and the uncompensated magnetometers."
   ]
  },
  {
   "cell_type": "code",
   "execution_count": null,
   "id": "73560d35",
   "metadata": {},
   "outputs": [],
   "source": [
    "p7 = plot_correlation_matrix(xyz,ind,[:mag_1_uc,:mag_4_uc,:mag_5_uc,:lpf_cur_strb]);\n"
   ]
  },
  {
   "attachments": {},
   "cell_type": "markdown",
   "id": "727f1fad-6634-4fc1-ba58-00b97ec3a46f",
   "metadata": {},
   "source": [
    "## 4. Prepare the data for machine learning algorithms\n",
    "\n",
    "Now we attempt to improve on the Tolles-Lawson (TL) model by training an artificial neural network (NN). The NN is provided with in-cabin magnetometer and current sensor measurements as features."
   ]
  },
  {
   "cell_type": "code",
   "execution_count": null,
   "id": "539e597e-2593-46a2-bbbb-aadce4977358",
   "metadata": {},
   "outputs": [],
   "source": [
    "features = [:mag_4_uc, :TL_A_flux_d, :lpf_cur_com_1, :lpf_cur_strb, :lpf_cur_outpwr, :lpf_cur_ac_lo];\n"
   ]
  },
  {
   "cell_type": "markdown",
   "id": "7727691d",
   "metadata": {},
   "source": [
    "Additional parameters must be set to prepare the training (and testing) data:\n",
    "- `y_type`: `y` target type, which has multiple options:\n",
    "    - `:a` = anomaly field #1, compensated tail stinger total field scalar magnetometer measurements\n",
    "    - `:b` = anomaly field #2, interpolated magnetic anomaly map values\n",
    "    - `:c` = aircraft field #1, difference between uncompensated cabin total field scalar magnetometer measurements and interpolated magnetic anomaly map values\n",
    "    - `:d` = aircraft field #2, difference between uncompensated cabin and compensated tail stinger total field scalar magnetometer measurements\n",
    "    - `:e` = BPF'd total field, bandpass filtered uncompensated cabin total field scalar magnetometer measurements\n",
    "- `use_mag`:     uncompensated scalar magnetometer to use for `y` target vector\n",
    "- `sub_diurnal`: if true, subtract diurnal from scalar magnetometer measurements\n",
    "- `sub_igrf`:    if true, subtract IGRF from scalar magnetometer measurements\n",
    "- `norm_type_x`: normalization for `x` data matrix\n",
    "- `norm_type_y`: normalization for `y` target vector"
   ]
  },
  {
   "cell_type": "code",
   "execution_count": null,
   "id": "5119f435-4caf-4861-9f4d-c683fe2f29ed",
   "metadata": {},
   "outputs": [],
   "source": [
    "y_type      = :d\n",
    "use_mag     = :mag_4_uc\n",
    "sub_diurnal = true\n",
    "sub_igrf    = true\n",
    "norm_type_x = :standardize\n",
    "norm_type_y = :standardize;\n"
   ]
  },
  {
   "cell_type": "markdown",
   "id": "18b6ac11",
   "metadata": {},
   "source": [
    "The `y_type` and `use_mag` parameters are set to use the difference between an uncompensated cabin magnetometer (`mag_4_uc`) and the compensated tail stinger magnetometer (`mag_1_c`). This is essentially the aircraft field corruption that needs to be removed for a clean signal.\n",
    "\n",
    "The `sub_diurnal` and `sub_igrf` parameters are set to remove the diurnal and core fields from all (scalar) total field measurements. This leaves only the anomaly field (desired) and aircraft field (corruption) in those measurements.\n",
    "\n",
    "The `norm_type_x` and `norm_type_y` parameters are set to standardize the data, both the `x` data matrix and `y` target vector. Most machine learning algorithms perform better when the features are scaled to values close to one. Two of the most common methods are standardization (Z-score normalization) and min-max normalization."
   ]
  },
  {
   "cell_type": "markdown",
   "id": "f3a927fe",
   "metadata": {},
   "source": [
    "## 5. Select a model and train it\n",
    "\n",
    "MagNav.jl has a built-in pipeline for training and testing various aeromagnetic compensation models. However, the model parameters must be selected:\n",
    "\n",
    "- `model_type`: aeromagnetic compensation model type\n",
    "- `η_adam`: learning rate for Adam optimizer\n",
    "- `epoch_adam`: number of epochs for Adam optimizer\n",
    "- `hidden`: hidden layers and nodes (e.g., `[8]` for 1 hidden layer with 8 nodes)\n",
    "\n",
    "These are the most relevant parameters for this notebook, but additional parameters may be set, which can be found in the documentation for `NNCompParams`.\n",
    "\n",
    "Note that internally the data is split into training and validation portions, then shuffled. This is time series data, so if another model type, such as a recurrent neural network, is used, then the data should be kept in sequential order instead (no shuffling)."
   ]
  },
  {
   "cell_type": "code",
   "execution_count": null,
   "id": "9fbcee15",
   "metadata": {},
   "outputs": [],
   "source": [
    "model_type  = :m2b\n",
    "η_adam      = 0.001\n",
    "epoch_adam  = 100\n",
    "hidden      = [8];\n"
   ]
  },
  {
   "cell_type": "markdown",
   "id": "f10daab0",
   "metadata": {},
   "source": [
    "The neural network-based compensation parameters (type of `NNCompParams`) are provided to (and returned by) the training function. These take default values, unless they are specified."
   ]
  },
  {
   "cell_type": "code",
   "execution_count": null,
   "id": "8bc372dd",
   "metadata": {},
   "outputs": [],
   "source": [
    "comp_params = NNCompParams(features_setup = features,\n",
    "                           model_type     = model_type,\n",
    "                           y_type         = y_type,\n",
    "                           use_mag        = use_mag,\n",
    "                           use_vec        = use_vec,\n",
    "                           terms_A        = terms_A,\n",
    "                           sub_diurnal    = sub_diurnal,\n",
    "                           sub_igrf       = sub_igrf,\n",
    "                           norm_type_x    = norm_type_x,\n",
    "                           norm_type_y    = norm_type_y,\n",
    "                           TL_coef        = TL_d_4,\n",
    "                           η_adam         = η_adam,\n",
    "                           epoch_adam     = epoch_adam,\n",
    "                           hidden         = hidden);\n"
   ]
  },
  {
   "cell_type": "markdown",
   "id": "ac7f8659",
   "metadata": {},
   "source": [
    "The neural network model is then trained based on the specified parameters, which can of course be modified."
   ]
  },
  {
   "cell_type": "code",
   "execution_count": null,
   "id": "eaaad14b-1c94-4eda-a2ce-4f1b02f321f2",
   "metadata": {},
   "outputs": [],
   "source": [
    "(comp_params,y_train,y_train_hat,err_train,feats) =\n",
    "    comp_train(comp_params,lines_train,df_all,df_flight,df_map);\n"
   ]
  },
  {
   "attachments": {},
   "cell_type": "markdown",
   "id": "7af45ad2-f450-4932-bf45-45f3406ed153",
   "metadata": {},
   "source": [
    "We next test the performance on the held-out flight `line` using the `comp_test` convenience function. Note that there is also a `comp_train_test` convenience function that does both."
   ]
  },
  {
   "cell_type": "code",
   "execution_count": null,
   "id": "7a84d932-13be-4ee1-9070-a4563a0e2407",
   "metadata": {},
   "outputs": [],
   "source": [
    "(_,y_test_hat,_) =\n",
    "    comp_test(comp_params,[line],df_all,df_flight,df_map);\n"
   ]
  },
  {
   "attachments": {},
   "cell_type": "markdown",
   "id": "d98d0e67-7642-4fd1-aeef-3e6f1370dfca",
   "metadata": {},
   "source": [
    "### Model comparison\n",
    "\n",
    "We are now in a position to compare the errors in the uncompensated, Tolles-Lawson compensated, and model 2b compensated signals. The model 2b results ameliorate the signal excursions that are present in the uncompensated and Tolles-Lawson compensated readings. \n",
    "\n",
    "Note that the `detrend` function helps remove any persistent bias in the signal, which does not affect the navigation error. Also note that since we selected `y_type = :d` in the NN compensation parameters (`NNCompParams`), we treat the output as the aircraft component that must be subtracted from the total scalar signal."
   ]
  },
  {
   "cell_type": "code",
   "execution_count": null,
   "id": "d256014e-8844-474c-90eb-c7c702db6adf",
   "metadata": {},
   "outputs": [],
   "source": [
    "tt = (xyz.traj.tt[ind] .- xyz.traj.tt[ind][1]) / 60;\n",
    "di = (xyz.diurnal + xyz.igrf)[ind] # diurnal & core (IGRF)\n",
    "p8 = plot(xlab=\"time [min]\", ylab=\"magnetic field [nT]\");\n",
    "plot!(p8, tt, detrend(mag_1_sgl             - di, mean_only=true), lab=\"truth\");\n",
    "plot!(p8, tt, detrend(mag_4_uc              - di, mean_only=true), lab=\"uncompensated\");\n",
    "plot!(p8, tt, detrend(mag_4_c               - di, mean_only=true), lab=\"Tolles-Lawson\");\n",
    "plot!(p8, tt, detrend(mag_4_uc - y_test_hat - di, mean_only=true), lab=\"model 2b\")\n"
   ]
  },
  {
   "cell_type": "code",
   "execution_count": null,
   "id": "3c877f61",
   "metadata": {},
   "outputs": [],
   "source": [
    "println(\"raw σ:     \",round(Int,std( mag_4_uc               - mag_1_sgl)),\" nT\")\n",
    "println(\"TL σ:      \",round(Int,std( mag_4_c                - mag_1_sgl)),\" nT\")\n",
    "println(\"TL + NN σ: \",round(Int,std((mag_4_uc - y_test_hat) - mag_1_sgl)),\" nT\")\n"
   ]
  },
  {
   "cell_type": "markdown",
   "id": "41022a0f",
   "metadata": {},
   "source": [
    "## 6. Fine-tune the model\n",
    "\n",
    "This model performs fairly well, but perhaps it could be improved by switching to model 2c (`:m2c`), which also tunes the Tolles-Lawson coefficients."
   ]
  },
  {
   "cell_type": "code",
   "execution_count": null,
   "id": "749c19f6",
   "metadata": {},
   "outputs": [],
   "source": [
    "comp_params = NNCompParams(comp_params,\n",
    "                           model_type = :m2c,\n",
    "                           epoch_adam = 50);\n",
    "(comp_params,y_train,y_train_hat,err_train,y_test,y_test_hat,err_test,feats) =\n",
    "    comp_train_test(comp_params,lines_train,[line],df_all,df_flight,df_map);\n"
   ]
  },
  {
   "attachments": {},
   "cell_type": "markdown",
   "id": "14e34e8b-a114-4d0f-9fe1-178144aa7eb8",
   "metadata": {},
   "source": [
    "## 7. Present the solution\n",
    "\n",
    "Document and present with clear visualizations and easy to remember statements\n",
    "- What you have learned\n",
    "- What worked and what did not\n",
    "- What assumptions were made\n",
    "- What system limitations exist"
   ]
  },
  {
   "cell_type": "code",
   "execution_count": null,
   "id": "556e82cb",
   "metadata": {},
   "outputs": [],
   "source": [
    "p9 = plot(xlab=\"time [min]\", ylab=\"magnetic field [nT]\");\n",
    "plot!(p9, tt, detrend(mag_1_sgl             - di, mean_only=true), lab=\"truth\");\n",
    "plot!(p9, tt, detrend(mag_4_uc              - di, mean_only=true), lab=\"uncompensated\");\n",
    "plot!(p9, tt, detrend(mag_4_c               - di, mean_only=true), lab=\"Tolles-Lawson\");\n",
    "plot!(p9, tt, detrend(mag_4_uc - y_test_hat - di, mean_only=true), lab=\"model 2c\")\n"
   ]
  },
  {
   "cell_type": "code",
   "execution_count": null,
   "id": "4a284641",
   "metadata": {},
   "outputs": [],
   "source": [
    "println(\"raw σ:     \",round(Int,std( mag_4_uc               - mag_1_sgl)),\" nT\")\n",
    "println(\"TL σ:      \",round(Int,std( mag_4_c                - mag_1_sgl)),\" nT\")\n",
    "println(\"TL + NN σ: \",round(Int,std((mag_4_uc - y_test_hat) - mag_1_sgl)),\" nT\")\n"
   ]
  },
  {
   "cell_type": "markdown",
   "id": "0f482b3b",
   "metadata": {},
   "source": [
    "### So what?\n",
    "\n",
    "Here are the final model results.\n",
    "\n",
    "Model             | Mag Error [nT]\n",
    "----------------- | --------------\n",
    "Uncompensated     | 405\n",
    "Tolles-Lawson     | 134\n",
    "TL + NN, model 2b | 67\n",
    "TL + NN, model 2c | 63\n",
    "\n",
    "With the error level achieved here, MagNav should be possible using an onboard magnetometer! We can pass the compensated values from this model into the navigation algorithm to assess its performance."
   ]
  },
  {
   "cell_type": "markdown",
   "id": "82fdfc87",
   "metadata": {},
   "source": [
    "## 8. Launch, monitor, and maintain the system\n",
    "\n",
    "Get the solution ready for launch\n",
    "- Polish the code\n",
    "- Write documentation and unit tests\n",
    "- Load onto a device on the next data collection flight!"
   ]
  },
  {
   "cell_type": "markdown",
   "id": "502d610e",
   "metadata": {},
   "source": [
    "# Other Ideas\n",
    "\n",
    "There are many other ideas that could be tried, such as:\n",
    "\n",
    "- Explore the data in different ways such as autocorrelation analysis to gain additional insights.\n",
    "- Experiment with other regression algorithms such as support vector machines, kernel ridge regression, or recurrent neural networks.\n",
    "- Create a similar end-to-end machine learning project using a different magnetometer.\n",
    "- Instead of using a hold-out validation dataset, use cross-validation, which trains models on different subsets of the dataset to estimate performance.\n",
    "\n",
    "To help with this, the `x` data matrix and `y` target vector can be extracted directly, which is normally done internally to reduce memory use. Note that uncommenting below may cause the notebook to slow down significantly."
   ]
  },
  {
   "cell_type": "code",
   "execution_count": null,
   "id": "73b848c6",
   "metadata": {},
   "outputs": [],
   "source": [
    "# (A_train,x_train,y_train,_,_,l_segs_train) =\n",
    "#     get_Axy(lines_train,df_all,df_flight,df_map,features;\n",
    "#             y_type      = y_type,\n",
    "#             use_mag     = use_mag,\n",
    "#             use_vec     = use_vec,\n",
    "#             terms_A     = terms_A,\n",
    "#             sub_diurnal = sub_diurnal,\n",
    "#             sub_igrf    = sub_igrf);\n"
   ]
  },
  {
   "cell_type": "code",
   "execution_count": null,
   "id": "e5655b24",
   "metadata": {},
   "outputs": [],
   "source": [
    "# (A_test,x_test,y_test,_,_,l_segs_test) =\n",
    "#     get_Axy([line],df_all,df_flight,df_map,features;\n",
    "#             y_type      = y_type,\n",
    "#             use_mag     = use_mag,\n",
    "#             use_vec     = use_vec,\n",
    "#             terms_A     = terms_A,\n",
    "#             sub_diurnal = sub_diurnal,\n",
    "#             sub_igrf    = sub_igrf);\n"
   ]
  },
  {
   "cell_type": "markdown",
   "id": "b41c11cd",
   "metadata": {},
   "source": [
    "These datasets can be normalized using the `norm_sets` function."
   ]
  },
  {
   "cell_type": "code",
   "execution_count": null,
   "id": "ab7da9b3",
   "metadata": {},
   "outputs": [],
   "source": [
    "# (A_bias,A_scale,A_train_norm,A_test_norm) = norm_sets(A_train,A_test;norm_type=:none);\n",
    "# (x_bias,x_scale,x_train_norm,x_test_norm) = norm_sets(x_train,x_test;norm_type=norm_type_x);\n",
    "# (y_bias,y_scale,y_train_norm,y_test_norm) = norm_sets(y_train,y_test;norm_type=norm_type_y);\n"
   ]
  },
  {
   "cell_type": "markdown",
   "id": "d56a6d03",
   "metadata": {},
   "source": [
    "Go at it!"
   ]
  }
 ],
 "metadata": {
  "kernelspec": {
   "display_name": "Julia 1.11.3",
   "language": "julia",
   "name": "julia-1.11"
  },
  "language_info": {
   "file_extension": ".jl",
   "mimetype": "application/julia",
   "name": "julia",
   "version": "1.11.3"
  }
 },
 "nbformat": 4,
 "nbformat_minor": 5
}
